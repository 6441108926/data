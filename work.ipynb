{
 "cells": [
  {
   "cell_type": "markdown",
   "metadata": {},
   "source": [
    "### <span style=\"color:white;\"><strong>กลุ่มจูเนียร์ หรือ จูปิเตอร์&nbsp;</strong></span> "
   ]
  },
  {
   "cell_type": "markdown",
   "metadata": {},
   "source": [
    "### สมาชิก\n",
    "1. นาย ธีรัช ถวัลประสิทธิ์ รหัสนิสิต 6441108926\n",
    "2. รหัสนิสิต 6441089626"
   ]
  },
  {
   "cell_type": "code",
   "execution_count": 2,
   "metadata": {},
   "outputs": [],
   "source": [
    "import pandas as pd\n",
    "import numpy as np\n",
    "import seaborn as sns\n",
    "import matplotlib.pyplot as plt\n",
    "%matplotlib inline"
   ]
  },
  {
   "cell_type": "markdown",
   "metadata": {},
   "source": [
    "#### วิเคราะห์ข้อมูลของ Soft drink Market size ของประเทศไทยเทียบกับประเทศอื่น ๆ ทั่วโลก โดยที่ปัจจุบันการบริโภคน้ำอัดลมแบบ Low sugarมีอัตราที่เพิ่มขึ้นอย่างมาก เนื่องจาก trend ในการดื่ม Low sugar Soft drink และ trend การรักสุขภาพมากขึ้น <span style=\"color: var(--vscode-foreground);\">"
   ]
  },
  {
   "cell_type": "markdown",
   "metadata": {},
   "source": []
  }
 ],
 "metadata": {
  "kernelspec": {
   "display_name": "Python 3",
   "language": "python",
   "name": "python3"
  },
  "language_info": {
   "codemirror_mode": {
    "name": "ipython",
    "version": 3
   },
   "file_extension": ".py",
   "mimetype": "text/x-python",
   "name": "python",
   "nbconvert_exporter": "python",
   "pygments_lexer": "ipython3",
   "version": "3.12.1"
  }
 },
 "nbformat": 4,
 "nbformat_minor": 2
}
